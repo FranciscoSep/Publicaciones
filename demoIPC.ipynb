{
 "cells": [
  {
   "cell_type": "markdown",
   "metadata": {},
   "source": [
    "RESUMEN/PREAMBULO"
   ]
  },
  {
   "cell_type": "markdown",
   "metadata": {},
   "source": [
    "Primero importaremos la base de datos del IPC del INE."
   ]
  },
  {
   "cell_type": "code",
   "execution_count": 20,
   "metadata": {},
   "outputs": [],
   "source": [
    "import pandas as pd\n",
    "url='https://www.ine.cl/docs/default-source/%C3%ADndice-de-precios-al-consumidor/cuadros-estadisticos/base-2018/series-de-tiempo/ipc-xls.xlsx'\n",
    "\n",
    "df_INE=pd.read_excel(url,skiprows=3)"
   ]
  },
  {
   "cell_type": "markdown",
   "metadata": {},
   "source": [
    "Ahora filtramos solamente productos, ya que estos son el nivel más desagregado que publica el INE, y creamos un ID único a cada producto, la ventaja de trabajar con un ID numérico sobre un nombre (por ejemplo: \"Paquete Turístico\") es que evitamos problemas asociados a la Tipografía (espacios, tildes, mayúsculas, etc). además, cambiaremos la base de tipo \"long\" a \"wide\" con la función pivot_table, que es análoga a su contraparte tabla dinámica de MS Excel."
   ]
  },
  {
   "cell_type": "code",
   "execution_count": 21,
   "metadata": {},
   "outputs": [
    {
     "name": "stderr",
     "output_type": "stream",
     "text": [
      "C:\\ProgramData\\Anaconda3\\lib\\site-packages\\ipykernel_launcher.py:4: SettingWithCopyWarning: \n",
      "A value is trying to be set on a copy of a slice from a DataFrame.\n",
      "Try using .loc[row_indexer,col_indexer] = value instead\n",
      "\n",
      "See the caveats in the documentation: http://pandas.pydata.org/pandas-docs/stable/user_guide/indexing.html#returning-a-view-versus-a-copy\n",
      "  after removing the cwd from sys.path.\n",
      "C:\\ProgramData\\Anaconda3\\lib\\site-packages\\ipykernel_launcher.py:11: SettingWithCopyWarning: \n",
      "A value is trying to be set on a copy of a slice from a DataFrame.\n",
      "Try using .loc[row_indexer,col_indexer] = value instead\n",
      "\n",
      "See the caveats in the documentation: http://pandas.pydata.org/pandas-docs/stable/user_guide/indexing.html#returning-a-view-versus-a-copy\n",
      "  # This is added back by InteractiveShellApp.init_path()\n"
     ]
    }
   ],
   "source": [
    "filtro_productos=df_INE['Producto'].astype(str).str.isnumeric()\n",
    "\n",
    "df_productos=df_INE[filtro_productos]\n",
    "df_productos['Fecha']=df_productos['Año']*100+df_productos['Mes']\n",
    "df_productos['ID']=(\n",
    "df_productos['División']*1e5+\n",
    "df_productos['Grupo']*1e4+\n",
    "df_productos['Clase']*1e3+\n",
    "df_productos['Subclase']*1e2+\n",
    "df_productos['Producto']*1e0\n",
    ").astype(int)\n",
    "\n",
    "df_productos_mensuales=df_productos.pivot_table(values='Índice',index='ID',columns='Fecha')"
   ]
  },
  {
   "cell_type": "markdown",
   "metadata": {},
   "source": [
    "Por otro lado, rescataremos los ponderadores de cada producto, para esto fijaremos arbitrariamente un mes en específico y tomaremos esta información, ya que actualmente está duplicada por cada nuevo mes que se agrega en la base."
   ]
  },
  {
   "cell_type": "code",
   "execution_count": 22,
   "metadata": {},
   "outputs": [],
   "source": [
    "filtro_mes=df_productos['Fecha']==201901\n",
    "\n",
    "df_auxiliar_ponderadores=df_productos[['Fecha','Ponderación','ID']][filtro_mes]\n",
    "df_auxiliar_ponderadores.index=df_auxiliar_ponderadores['ID']\n",
    "ponderadores=df_auxiliar_ponderadores.sort_index()['Ponderación']"
   ]
  },
  {
   "cell_type": "markdown",
   "metadata": {},
   "source": [
    "Con la base en formato wide y los ponderadores podemos crear una función que tome estos dos inputs y calcule el nivel del índice. Luego a partir de estos niveles podemos concentrarnos en variaciones (mensuales, interanuales o de otra naturaleza)."
   ]
  },
  {
   "cell_type": "code",
   "execution_count": 23,
   "metadata": {},
   "outputs": [
    {
     "data": {
      "text/plain": [
       "Fecha\n",
       "201902    0.000462\n",
       "201903    0.004743\n",
       "201904    0.002606\n",
       "201905    0.006044\n",
       "201906    0.000488\n",
       "201907    0.002236\n",
       "201908    0.001872\n",
       "201909    0.000121\n",
       "201910    0.008112\n",
       "201911    0.000848\n",
       "201912    0.000993\n",
       "202001    0.005662\n",
       "202002    0.004484\n",
       "202003    0.003306\n",
       "202004   -0.000407\n",
       "202005   -0.000497\n",
       "202006   -0.000719\n",
       "202007    0.001003\n",
       "202008    0.001321\n",
       "202009    0.006352\n",
       "202010    0.006867\n",
       "202011   -0.001372\n",
       "202012    0.003379\n",
       "202101    0.007023\n",
       "202102    0.001853\n",
       "dtype: float64"
      ]
     },
     "execution_count": 23,
     "metadata": {},
     "output_type": "execute_result"
    }
   ],
   "source": [
    "def calcula_indice(dataframe,ponderadores):\n",
    "    numerador=dataframe.mul(ponderadores.values,axis=0).sum()\n",
    "    denominador=ponderadores.sum()\n",
    "    niveles=numerador/denominador\n",
    "    return niveles\n",
    "\n",
    "niveles_IPC=calcula_indice(df_productos_mensuales,ponderadores)\n",
    "niveles_IPC.pct_change(1)[1:]"
   ]
  },
  {
   "cell_type": "code",
   "execution_count": 24,
   "metadata": {},
   "outputs": [
    {
     "data": {
      "text/plain": [
       "Fecha\n",
       "202001    0.034688\n",
       "202002    0.038848\n",
       "202003    0.037362\n",
       "202004    0.034245\n",
       "202005    0.027520\n",
       "202006    0.026280\n",
       "202007    0.025018\n",
       "202008    0.024454\n",
       "202009    0.030837\n",
       "202010    0.029565\n",
       "202011    0.027280\n",
       "202012    0.029729\n",
       "202101    0.031122\n",
       "202102    0.028422\n",
       "dtype: float64"
      ]
     },
     "execution_count": 24,
     "metadata": {},
     "output_type": "execute_result"
    }
   ],
   "source": [
    "niveles_IPC.pct_change(12)[12:]"
   ]
  },
  {
   "cell_type": "markdown",
   "metadata": {},
   "source": [
    "De la misma manera que replicamos el índice General del IPC, podemos replicar sus índices analíticos cambiando el input de ponderadores, por ejemplo, replicando el índice Sin Alimentos ni Energía (IPC SAE)."
   ]
  },
  {
   "cell_type": "code",
   "execution_count": 25,
   "metadata": {},
   "outputs": [],
   "source": [
    "url_ponderadores='https://www.ine.cl/docs/default-source/%C3%ADndice-de-precios-al-consumidor/metodologias/base-anual-2018-100/canasta-anal%C3%ADticos-ipc-2018=100.xlsx'\n",
    "\n",
    "df_ponderadores=pd.read_excel(url_ponderadores,skiprows=1)\n",
    "df_ponderadores['ID']=(\n",
    "df_ponderadores['D']*1e5+\n",
    "df_ponderadores['G']*1e4+\n",
    "df_ponderadores['C']*1e3+\n",
    "df_ponderadores['SC']*1e2+\n",
    "df_ponderadores['P']*1e0\n",
    ").astype(int)\n",
    "\n",
    "df_ponderadores.sort_values('ID',inplace=True)"
   ]
  },
  {
   "cell_type": "code",
   "execution_count": 26,
   "metadata": {},
   "outputs": [
    {
     "data": {
      "text/plain": [
       "Fecha\n",
       "201902    0.002624\n",
       "201903    0.004343\n",
       "201904    0.000915\n",
       "201905    0.003556\n",
       "201906   -0.000137\n",
       "201907    0.002970\n",
       "201908    0.000677\n",
       "201909    0.000541\n",
       "201910    0.005876\n",
       "201911   -0.001557\n",
       "201912    0.001242\n",
       "202001    0.003955\n",
       "202002    0.004265\n",
       "202003    0.002598\n",
       "202004   -0.000948\n",
       "202005    0.000940\n",
       "202006   -0.000815\n",
       "202007    0.001061\n",
       "202008    0.002177\n",
       "202009    0.003415\n",
       "202010    0.007322\n",
       "202011   -0.001959\n",
       "202012    0.003604\n",
       "202101    0.004536\n",
       "202102    0.001947\n",
       "dtype: float64"
      ]
     },
     "execution_count": 26,
     "metadata": {},
     "output_type": "execute_result"
    }
   ],
   "source": [
    "filtro_SAE=df_ponderadores['IPC menos Alimentos y Energía']\n",
    "ponderadores_SAE=ponderadores*filtro_SAE.values\n",
    "niveles_IPC_SAE=calcula_indice(df_productos_mensuales,ponderadores_SAE)\n",
    "niveles_IPC_SAE.pct_change(1)[1:]"
   ]
  },
  {
   "cell_type": "code",
   "execution_count": 27,
   "metadata": {},
   "outputs": [
    {
     "data": {
      "text/plain": [
       "Fecha\n",
       "202001    0.025267\n",
       "202002    0.026945\n",
       "202003    0.025160\n",
       "202004    0.023252\n",
       "202005    0.020585\n",
       "202006    0.019894\n",
       "202007    0.017952\n",
       "202008    0.019478\n",
       "202009    0.022406\n",
       "202010    0.023876\n",
       "202011    0.023464\n",
       "202012    0.025878\n",
       "202101    0.026472\n",
       "202102    0.024103\n",
       "dtype: float64"
      ]
     },
     "execution_count": 27,
     "metadata": {},
     "output_type": "execute_result"
    }
   ],
   "source": [
    "niveles_IPC_SAE.pct_change(12)[12:]"
   ]
  },
  {
   "cell_type": "markdown",
   "metadata": {},
   "source": [
    "Hasta ahora solo hemos replicado el cálculo de productos a índice general del INE, una posible acción seria a continuación cambiar el input de la base y agregar supuestos sobre el comportamiento futuro de los productos del índice para proyectar que pasara con el índice general, que es lo que hacemos en Pacifico Research.\n",
    "\n",
    "Otro ejercicio sería modificar los ponderadores y crear un índice personalizado, dependiendo del análisis que se desee realizar. En el último tiempo por motivos de la pandemia una serie de servicios sufrió abruptamente su oferta, siendo los más destacados para motivos del análisis de precios \"Servicio de transporte aéreo\" y \"Paquete Turístico\". El INE opto metodológicamente por imputar estos productos por el método de arrastre (mantener el ultimo valor recogido, en este caso abril del 2020). ¿Qué hubiese pasado hipotéticamente si el INE hubiese removido estos productos del indicador, en vez de imputarlos?"
   ]
  },
  {
   "cell_type": "code",
   "execution_count": 28,
   "metadata": {},
   "outputs": [],
   "source": [
    "ponderadores_personalizado=ponderadores.copy()\n",
    "ponderadores_personalizado[732101]=0  #\"Servicio de transporte aéreo\"\n",
    "ponderadores_personalizado[951101]=0 #\"Paquete Turístico\""
   ]
  },
  {
   "cell_type": "code",
   "execution_count": 29,
   "metadata": {},
   "outputs": [
    {
     "data": {
      "text/plain": [
       "Fecha\n",
       "201902    0.000947\n",
       "201903    0.004882\n",
       "201904    0.002601\n",
       "201905    0.003961\n",
       "201906    0.000489\n",
       "201907    0.002151\n",
       "201908    0.000857\n",
       "201909    0.001638\n",
       "201910    0.006286\n",
       "201911    0.000636\n",
       "201912    0.001215\n",
       "202001    0.005042\n",
       "202002    0.005094\n",
       "202003    0.004285\n",
       "202004   -0.000031\n",
       "202005   -0.000505\n",
       "202006   -0.000731\n",
       "202007    0.001020\n",
       "202008    0.001342\n",
       "202009    0.006455\n",
       "202010    0.006977\n",
       "202011   -0.001394\n",
       "202012    0.003433\n",
       "202101    0.007134\n",
       "202102    0.001882\n",
       "dtype: float64"
      ]
     },
     "execution_count": 29,
     "metadata": {},
     "output_type": "execute_result"
    }
   ],
   "source": [
    "niveles_IPC_personalizado=calcula_indice(df_productos_mensuales,ponderadores_personalizado)\n",
    "niveles_IPC_personalizado.pct_change(1)[1:]"
   ]
  },
  {
   "cell_type": "code",
   "execution_count": 30,
   "metadata": {},
   "outputs": [
    {
     "data": {
      "text/plain": [
       "Fecha\n",
       "202001    0.031118\n",
       "202002    0.035390\n",
       "202003    0.034776\n",
       "202004    0.032059\n",
       "202005    0.027467\n",
       "202006    0.026214\n",
       "202007    0.025056\n",
       "202008    0.025553\n",
       "202009    0.030485\n",
       "202010    0.031193\n",
       "202011    0.029101\n",
       "202012    0.031381\n",
       "202101    0.033527\n",
       "202102    0.030225\n",
       "dtype: float64"
      ]
     },
     "execution_count": 30,
     "metadata": {},
     "output_type": "execute_result"
    }
   ],
   "source": [
    "niveles_IPC_personalizado.pct_change(12)[12:]"
   ]
  },
  {
   "cell_type": "code",
   "execution_count": 31,
   "metadata": {},
   "outputs": [
    {
     "data": {
      "text/plain": [
       "0.0018030899850982607"
      ]
     },
     "execution_count": 31,
     "metadata": {},
     "output_type": "execute_result"
    }
   ],
   "source": [
    "niveles_IPC_personalizado.pct_change(12).iloc[-1]-niveles_IPC.pct_change(12).iloc[-1]"
   ]
  },
  {
   "cell_type": "markdown",
   "metadata": {},
   "source": [
    "0.2 décimas más hubiese sido el IPC interanual a febrero si los esos 2 productos hubiesen sido removidos en vez de imputados por arrastre. ¿Qué hubiese pasado si en vez de una imputación por arrastre se hubiese usado otro tipo de metodología? Esas y otras preguntas quedan al lector (hint: pueden responderse fácilmente cambiando los inputs respectivos)."
   ]
  }
 ],
 "metadata": {
  "kernelspec": {
   "display_name": "Python 3",
   "language": "python",
   "name": "python3"
  },
  "language_info": {
   "codemirror_mode": {
    "name": "ipython",
    "version": 3
   },
   "file_extension": ".py",
   "mimetype": "text/x-python",
   "name": "python",
   "nbconvert_exporter": "python",
   "pygments_lexer": "ipython3",
   "version": "3.7.4"
  }
 },
 "nbformat": 4,
 "nbformat_minor": 2
}
